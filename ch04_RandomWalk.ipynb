{
 "cells": [
  {
   "cell_type": "code",
   "execution_count": 1,
   "metadata": {},
   "outputs": [],
   "source": [
    "n=1000"
   ]
  },
  {
   "cell_type": "code",
   "execution_count": 2,
   "metadata": {},
   "outputs": [],
   "source": [
    "import numpy as np"
   ]
  },
  {
   "cell_type": "code",
   "execution_count": 3,
   "metadata": {},
   "outputs": [],
   "source": [
    "draws=np.random.randint(0,2,size=n)"
   ]
  },
  {
   "cell_type": "code",
   "execution_count": 4,
   "metadata": {},
   "outputs": [
    {
     "data": {
      "text/plain": [
       "array([1, 1, 1, 0, 1, 1, 1, 0, 0, 1, 0, 1, 1, 0, 1, 0, 0, 1, 1, 0, 1, 0,\n",
       "       0, 1, 0, 1, 1, 0, 0, 1, 1, 0, 1, 0, 0, 0, 1, 0, 1, 1, 1, 0, 1, 0,\n",
       "       1, 1, 1, 1, 0, 1, 1, 0, 0, 0, 0, 1, 0, 0, 1, 1, 1, 0, 1, 0, 0, 0,\n",
       "       0, 0, 0, 0, 0, 1, 0, 0, 0, 0, 1, 1, 1, 0, 1, 0, 0, 1, 0, 1, 0, 1,\n",
       "       0, 1, 1, 0, 0, 1, 1, 0, 0, 0, 0, 1, 0, 0, 1, 0, 0, 1, 0, 1, 0, 1,\n",
       "       1, 0, 0, 0, 1, 1, 1, 0, 0, 0, 0, 0, 0, 0, 1, 0, 0, 1, 1, 0, 0, 0,\n",
       "       0, 0, 0, 0, 0, 0, 0, 0, 1, 1, 1, 0, 1, 0, 0, 0, 1, 1, 0, 1, 0, 0,\n",
       "       1, 1, 1, 0, 0, 1, 0, 1, 0, 1, 0, 1, 0, 1, 0, 0, 0, 0, 1, 0, 1, 0,\n",
       "       0, 0, 1, 0, 0, 0, 1, 0, 1, 0, 1, 1, 0, 0, 1, 0, 1, 1, 0, 0, 0, 0,\n",
       "       0, 0, 1, 1, 0, 1, 1, 1, 0, 0, 1, 0, 0, 0, 0, 1, 1, 0, 1, 0, 1, 1,\n",
       "       1, 0, 1, 0, 1, 0, 0, 1, 1, 1, 0, 0, 1, 1, 1, 0, 0, 1, 0, 0, 1, 0,\n",
       "       0, 1, 0, 1, 1, 1, 1, 0, 0, 0, 0, 0, 1, 0, 0, 0, 1, 0, 1, 1, 0, 0,\n",
       "       0, 0, 1, 1, 1, 1, 0, 0, 1, 1, 0, 1, 0, 0, 0, 0, 1, 0, 0, 1, 0, 1,\n",
       "       1, 1, 1, 0, 0, 0, 1, 0, 1, 1, 1, 1, 1, 1, 1, 1, 0, 0, 0, 0, 1, 1,\n",
       "       1, 1, 1, 1, 0, 1, 1, 0, 1, 1, 0, 1, 0, 1, 1, 0, 1, 1, 0, 0, 0, 1,\n",
       "       0, 0, 1, 1, 1, 0, 0, 0, 1, 0, 1, 1, 1, 0, 0, 1, 0, 1, 0, 1, 0, 0,\n",
       "       1, 1, 1, 1, 1, 1, 0, 0, 1, 0, 0, 1, 1, 0, 1, 0, 0, 0, 1, 0, 0, 0,\n",
       "       1, 1, 1, 0, 0, 1, 0, 1, 0, 1, 0, 1, 0, 1, 0, 1, 1, 0, 1, 0, 0, 1,\n",
       "       0, 0, 0, 0, 0, 0, 0, 1, 0, 0, 1, 0, 1, 1, 1, 1, 0, 0, 0, 1, 1, 0,\n",
       "       1, 1, 1, 0, 0, 1, 1, 0, 0, 0, 0, 1, 1, 0, 0, 0, 0, 1, 0, 0, 0, 0,\n",
       "       1, 0, 1, 1, 1, 1, 1, 0, 1, 1, 0, 0, 0, 0, 0, 0, 1, 0, 1, 1, 1, 1,\n",
       "       0, 0, 0, 0, 1, 0, 0, 0, 1, 1, 1, 0, 0, 1, 0, 1, 1, 0, 1, 0, 1, 1,\n",
       "       0, 0, 0, 1, 1, 1, 0, 0, 0, 0, 0, 1, 1, 0, 0, 1, 0, 0, 1, 0, 0, 0,\n",
       "       1, 1, 0, 1, 0, 0, 0, 1, 0, 0, 1, 1, 0, 0, 0, 1, 1, 1, 1, 0, 0, 1,\n",
       "       1, 1, 1, 1, 0, 0, 1, 0, 0, 1, 0, 1, 0, 0, 1, 1, 0, 1, 1, 0, 1, 0,\n",
       "       1, 1, 1, 0, 0, 0, 1, 1, 0, 0, 0, 1, 0, 1, 1, 1, 0, 0, 1, 0, 0, 1,\n",
       "       1, 0, 0, 0, 1, 1, 1, 1, 0, 0, 1, 0, 0, 0, 0, 1, 0, 1, 1, 0, 1, 0,\n",
       "       1, 0, 0, 1, 1, 1, 1, 0, 1, 0, 1, 0, 1, 1, 1, 0, 0, 0, 0, 1, 0, 0,\n",
       "       1, 0, 1, 0, 1, 1, 1, 0, 0, 0, 0, 0, 0, 0, 0, 0, 0, 0, 0, 1, 0, 0,\n",
       "       0, 0, 0, 1, 1, 0, 0, 1, 0, 0, 0, 1, 0, 0, 0, 0, 1, 0, 0, 1, 0, 0,\n",
       "       0, 1, 1, 1, 0, 1, 1, 1, 1, 0, 0, 0, 0, 1, 0, 1, 0, 1, 1, 0, 0, 0,\n",
       "       1, 1, 1, 1, 0, 1, 1, 1, 0, 1, 1, 1, 0, 0, 1, 0, 0, 1, 1, 1, 1, 0,\n",
       "       1, 0, 0, 1, 1, 1, 1, 0, 1, 1, 0, 1, 1, 1, 1, 1, 0, 1, 0, 1, 0, 1,\n",
       "       0, 1, 1, 1, 1, 1, 1, 0, 0, 0, 1, 0, 0, 0, 1, 0, 1, 1, 0, 1, 0, 1,\n",
       "       1, 0, 0, 0, 1, 1, 1, 0, 1, 1, 0, 0, 0, 0, 0, 0, 0, 1, 0, 0, 0, 1,\n",
       "       1, 1, 1, 1, 1, 0, 1, 1, 0, 1, 1, 1, 1, 0, 1, 0, 0, 0, 0, 0, 0, 1,\n",
       "       1, 1, 1, 1, 0, 1, 0, 1, 1, 1, 1, 0, 1, 0, 1, 0, 0, 0, 0, 1, 1, 0,\n",
       "       0, 1, 1, 0, 1, 1, 0, 1, 0, 1, 1, 0, 1, 0, 0, 0, 0, 0, 0, 0, 0, 0,\n",
       "       0, 0, 0, 0, 0, 0, 0, 1, 1, 1, 0, 1, 0, 1, 0, 1, 1, 0, 0, 1, 1, 0,\n",
       "       1, 0, 1, 1, 1, 1, 1, 1, 0, 0, 1, 1, 1, 1, 0, 0, 1, 0, 0, 1, 0, 1,\n",
       "       0, 0, 1, 0, 1, 0, 0, 1, 1, 0, 0, 1, 0, 0, 1, 0, 0, 0, 0, 0, 0, 0,\n",
       "       0, 0, 0, 0, 1, 1, 1, 0, 1, 0, 0, 0, 1, 0, 1, 1, 0, 0, 1, 1, 0, 1,\n",
       "       1, 1, 1, 1, 1, 1, 0, 0, 1, 0, 1, 1, 1, 1, 0, 1, 0, 1, 1, 0, 1, 0,\n",
       "       0, 1, 1, 1, 0, 0, 1, 0, 1, 0, 0, 0, 0, 0, 1, 0, 1, 0, 0, 0, 1, 1,\n",
       "       1, 0, 0, 1, 0, 0, 0, 0, 0, 1, 1, 1, 0, 1, 0, 0, 0, 0, 0, 1, 1, 1,\n",
       "       1, 0, 0, 0, 1, 0, 1, 0, 0, 1])"
      ]
     },
     "execution_count": 4,
     "metadata": {},
     "output_type": "execute_result"
    }
   ],
   "source": [
    "draws"
   ]
  },
  {
   "cell_type": "code",
   "execution_count": 5,
   "metadata": {},
   "outputs": [],
   "source": [
    "steps=np.where(draws>0,1,-1)"
   ]
  },
  {
   "cell_type": "code",
   "execution_count": 6,
   "metadata": {},
   "outputs": [
    {
     "data": {
      "text/plain": [
       "array([ 1,  1,  1, -1,  1,  1,  1, -1, -1,  1, -1,  1,  1, -1,  1, -1, -1,\n",
       "        1,  1, -1,  1, -1, -1,  1, -1,  1,  1, -1, -1,  1,  1, -1,  1, -1,\n",
       "       -1, -1,  1, -1,  1,  1,  1, -1,  1, -1,  1,  1,  1,  1, -1,  1,  1,\n",
       "       -1, -1, -1, -1,  1, -1, -1,  1,  1,  1, -1,  1, -1, -1, -1, -1, -1,\n",
       "       -1, -1, -1,  1, -1, -1, -1, -1,  1,  1,  1, -1,  1, -1, -1,  1, -1,\n",
       "        1, -1,  1, -1,  1,  1, -1, -1,  1,  1, -1, -1, -1, -1,  1, -1, -1,\n",
       "        1, -1, -1,  1, -1,  1, -1,  1,  1, -1, -1, -1,  1,  1,  1, -1, -1,\n",
       "       -1, -1, -1, -1, -1,  1, -1, -1,  1,  1, -1, -1, -1, -1, -1, -1, -1,\n",
       "       -1, -1, -1, -1,  1,  1,  1, -1,  1, -1, -1, -1,  1,  1, -1,  1, -1,\n",
       "       -1,  1,  1,  1, -1, -1,  1, -1,  1, -1,  1, -1,  1, -1,  1, -1, -1,\n",
       "       -1, -1,  1, -1,  1, -1, -1, -1,  1, -1, -1, -1,  1, -1,  1, -1,  1,\n",
       "        1, -1, -1,  1, -1,  1,  1, -1, -1, -1, -1, -1, -1,  1,  1, -1,  1,\n",
       "        1,  1, -1, -1,  1, -1, -1, -1, -1,  1,  1, -1,  1, -1,  1,  1,  1,\n",
       "       -1,  1, -1,  1, -1, -1,  1,  1,  1, -1, -1,  1,  1,  1, -1, -1,  1,\n",
       "       -1, -1,  1, -1, -1,  1, -1,  1,  1,  1,  1, -1, -1, -1, -1, -1,  1,\n",
       "       -1, -1, -1,  1, -1,  1,  1, -1, -1, -1, -1,  1,  1,  1,  1, -1, -1,\n",
       "        1,  1, -1,  1, -1, -1, -1, -1,  1, -1, -1,  1, -1,  1,  1,  1,  1,\n",
       "       -1, -1, -1,  1, -1,  1,  1,  1,  1,  1,  1,  1,  1, -1, -1, -1, -1,\n",
       "        1,  1,  1,  1,  1,  1, -1,  1,  1, -1,  1,  1, -1,  1, -1,  1,  1,\n",
       "       -1,  1,  1, -1, -1, -1,  1, -1, -1,  1,  1,  1, -1, -1, -1,  1, -1,\n",
       "        1,  1,  1, -1, -1,  1, -1,  1, -1,  1, -1, -1,  1,  1,  1,  1,  1,\n",
       "        1, -1, -1,  1, -1, -1,  1,  1, -1,  1, -1, -1, -1,  1, -1, -1, -1,\n",
       "        1,  1,  1, -1, -1,  1, -1,  1, -1,  1, -1,  1, -1,  1, -1,  1,  1,\n",
       "       -1,  1, -1, -1,  1, -1, -1, -1, -1, -1, -1, -1,  1, -1, -1,  1, -1,\n",
       "        1,  1,  1,  1, -1, -1, -1,  1,  1, -1,  1,  1,  1, -1, -1,  1,  1,\n",
       "       -1, -1, -1, -1,  1,  1, -1, -1, -1, -1,  1, -1, -1, -1, -1,  1, -1,\n",
       "        1,  1,  1,  1,  1, -1,  1,  1, -1, -1, -1, -1, -1, -1,  1, -1,  1,\n",
       "        1,  1,  1, -1, -1, -1, -1,  1, -1, -1, -1,  1,  1,  1, -1, -1,  1,\n",
       "       -1,  1,  1, -1,  1, -1,  1,  1, -1, -1, -1,  1,  1,  1, -1, -1, -1,\n",
       "       -1, -1,  1,  1, -1, -1,  1, -1, -1,  1, -1, -1, -1,  1,  1, -1,  1,\n",
       "       -1, -1, -1,  1, -1, -1,  1,  1, -1, -1, -1,  1,  1,  1,  1, -1, -1,\n",
       "        1,  1,  1,  1,  1, -1, -1,  1, -1, -1,  1, -1,  1, -1, -1,  1,  1,\n",
       "       -1,  1,  1, -1,  1, -1,  1,  1,  1, -1, -1, -1,  1,  1, -1, -1, -1,\n",
       "        1, -1,  1,  1,  1, -1, -1,  1, -1, -1,  1,  1, -1, -1, -1,  1,  1,\n",
       "        1,  1, -1, -1,  1, -1, -1, -1, -1,  1, -1,  1,  1, -1,  1, -1,  1,\n",
       "       -1, -1,  1,  1,  1,  1, -1,  1, -1,  1, -1,  1,  1,  1, -1, -1, -1,\n",
       "       -1,  1, -1, -1,  1, -1,  1, -1,  1,  1,  1, -1, -1, -1, -1, -1, -1,\n",
       "       -1, -1, -1, -1, -1, -1,  1, -1, -1, -1, -1, -1,  1,  1, -1, -1,  1,\n",
       "       -1, -1, -1,  1, -1, -1, -1, -1,  1, -1, -1,  1, -1, -1, -1,  1,  1,\n",
       "        1, -1,  1,  1,  1,  1, -1, -1, -1, -1,  1, -1,  1, -1,  1,  1, -1,\n",
       "       -1, -1,  1,  1,  1,  1, -1,  1,  1,  1, -1,  1,  1,  1, -1, -1,  1,\n",
       "       -1, -1,  1,  1,  1,  1, -1,  1, -1, -1,  1,  1,  1,  1, -1,  1,  1,\n",
       "       -1,  1,  1,  1,  1,  1, -1,  1, -1,  1, -1,  1, -1,  1,  1,  1,  1,\n",
       "        1,  1, -1, -1, -1,  1, -1, -1, -1,  1, -1,  1,  1, -1,  1, -1,  1,\n",
       "        1, -1, -1, -1,  1,  1,  1, -1,  1,  1, -1, -1, -1, -1, -1, -1, -1,\n",
       "        1, -1, -1, -1,  1,  1,  1,  1,  1,  1, -1,  1,  1, -1,  1,  1,  1,\n",
       "        1, -1,  1, -1, -1, -1, -1, -1, -1,  1,  1,  1,  1,  1, -1,  1, -1,\n",
       "        1,  1,  1,  1, -1,  1, -1,  1, -1, -1, -1, -1,  1,  1, -1, -1,  1,\n",
       "        1, -1,  1,  1, -1,  1, -1,  1,  1, -1,  1, -1, -1, -1, -1, -1, -1,\n",
       "       -1, -1, -1, -1, -1, -1, -1, -1, -1, -1,  1,  1,  1, -1,  1, -1,  1,\n",
       "       -1,  1,  1, -1, -1,  1,  1, -1,  1, -1,  1,  1,  1,  1,  1,  1, -1,\n",
       "       -1,  1,  1,  1,  1, -1, -1,  1, -1, -1,  1, -1,  1, -1, -1,  1, -1,\n",
       "        1, -1, -1,  1,  1, -1, -1,  1, -1, -1,  1, -1, -1, -1, -1, -1, -1,\n",
       "       -1, -1, -1, -1, -1,  1,  1,  1, -1,  1, -1, -1, -1,  1, -1,  1,  1,\n",
       "       -1, -1,  1,  1, -1,  1,  1,  1,  1,  1,  1,  1, -1, -1,  1, -1,  1,\n",
       "        1,  1,  1, -1,  1, -1,  1,  1, -1,  1, -1, -1,  1,  1,  1, -1, -1,\n",
       "        1, -1,  1, -1, -1, -1, -1, -1,  1, -1,  1, -1, -1, -1,  1,  1,  1,\n",
       "       -1, -1,  1, -1, -1, -1, -1, -1,  1,  1,  1, -1,  1, -1, -1, -1, -1,\n",
       "       -1,  1,  1,  1,  1, -1, -1, -1,  1, -1,  1, -1, -1,  1])"
      ]
     },
     "execution_count": 6,
     "metadata": {},
     "output_type": "execute_result"
    }
   ],
   "source": [
    "steps"
   ]
  },
  {
   "cell_type": "code",
   "execution_count": 7,
   "metadata": {},
   "outputs": [],
   "source": [
    "walk=steps.cumsum()"
   ]
  },
  {
   "cell_type": "code",
   "execution_count": 8,
   "metadata": {},
   "outputs": [
    {
     "data": {
      "text/plain": [
       "array([  1,   2,   3,   2,   3,   4,   5,   4,   3,   4,   3,   4,   5,\n",
       "         4,   5,   4,   3,   4,   5,   4,   5,   4,   3,   4,   3,   4,\n",
       "         5,   4,   3,   4,   5,   4,   5,   4,   3,   2,   3,   2,   3,\n",
       "         4,   5,   4,   5,   4,   5,   6,   7,   8,   7,   8,   9,   8,\n",
       "         7,   6,   5,   6,   5,   4,   5,   6,   7,   6,   7,   6,   5,\n",
       "         4,   3,   2,   1,   0,  -1,   0,  -1,  -2,  -3,  -4,  -3,  -2,\n",
       "        -1,  -2,  -1,  -2,  -3,  -2,  -3,  -2,  -3,  -2,  -3,  -2,  -1,\n",
       "        -2,  -3,  -2,  -1,  -2,  -3,  -4,  -5,  -4,  -5,  -6,  -5,  -6,\n",
       "        -7,  -6,  -7,  -6,  -7,  -6,  -5,  -6,  -7,  -8,  -7,  -6,  -5,\n",
       "        -6,  -7,  -8,  -9, -10, -11, -12, -11, -12, -13, -12, -11, -12,\n",
       "       -13, -14, -15, -16, -17, -18, -19, -20, -21, -22, -21, -20, -19,\n",
       "       -20, -19, -20, -21, -22, -21, -20, -21, -20, -21, -22, -21, -20,\n",
       "       -19, -20, -21, -20, -21, -20, -21, -20, -21, -20, -21, -20, -21,\n",
       "       -22, -23, -24, -23, -24, -23, -24, -25, -26, -25, -26, -27, -28,\n",
       "       -27, -28, -27, -28, -27, -26, -27, -28, -27, -28, -27, -26, -27,\n",
       "       -28, -29, -30, -31, -32, -31, -30, -31, -30, -29, -28, -29, -30,\n",
       "       -29, -30, -31, -32, -33, -32, -31, -32, -31, -32, -31, -30, -29,\n",
       "       -30, -29, -30, -29, -30, -31, -30, -29, -28, -29, -30, -29, -28,\n",
       "       -27, -28, -29, -28, -29, -30, -29, -30, -31, -30, -31, -30, -29,\n",
       "       -28, -27, -28, -29, -30, -31, -32, -31, -32, -33, -34, -33, -34,\n",
       "       -33, -32, -33, -34, -35, -36, -35, -34, -33, -32, -33, -34, -33,\n",
       "       -32, -33, -32, -33, -34, -35, -36, -35, -36, -37, -36, -37, -36,\n",
       "       -35, -34, -33, -34, -35, -36, -35, -36, -35, -34, -33, -32, -31,\n",
       "       -30, -29, -28, -29, -30, -31, -32, -31, -30, -29, -28, -27, -26,\n",
       "       -27, -26, -25, -26, -25, -24, -25, -24, -25, -24, -23, -24, -23,\n",
       "       -22, -23, -24, -25, -24, -25, -26, -25, -24, -23, -24, -25, -26,\n",
       "       -25, -26, -25, -24, -23, -24, -25, -24, -25, -24, -25, -24, -25,\n",
       "       -26, -25, -24, -23, -22, -21, -20, -21, -22, -21, -22, -23, -22,\n",
       "       -21, -22, -21, -22, -23, -24, -23, -24, -25, -26, -25, -24, -23,\n",
       "       -24, -25, -24, -25, -24, -25, -24, -25, -24, -25, -24, -25, -24,\n",
       "       -23, -24, -23, -24, -25, -24, -25, -26, -27, -28, -29, -30, -31,\n",
       "       -30, -31, -32, -31, -32, -31, -30, -29, -28, -29, -30, -31, -30,\n",
       "       -29, -30, -29, -28, -27, -28, -29, -28, -27, -28, -29, -30, -31,\n",
       "       -30, -29, -30, -31, -32, -33, -32, -33, -34, -35, -36, -35, -36,\n",
       "       -35, -34, -33, -32, -31, -32, -31, -30, -31, -32, -33, -34, -35,\n",
       "       -36, -35, -36, -35, -34, -33, -32, -33, -34, -35, -36, -35, -36,\n",
       "       -37, -38, -37, -36, -35, -36, -37, -36, -37, -36, -35, -36, -35,\n",
       "       -36, -35, -34, -35, -36, -37, -36, -35, -34, -35, -36, -37, -38,\n",
       "       -39, -38, -37, -38, -39, -38, -39, -40, -39, -40, -41, -42, -41,\n",
       "       -40, -41, -40, -41, -42, -43, -42, -43, -44, -43, -42, -43, -44,\n",
       "       -45, -44, -43, -42, -41, -42, -43, -42, -41, -40, -39, -38, -39,\n",
       "       -40, -39, -40, -41, -40, -41, -40, -41, -42, -41, -40, -41, -40,\n",
       "       -39, -40, -39, -40, -39, -38, -37, -38, -39, -40, -39, -38, -39,\n",
       "       -40, -41, -40, -41, -40, -39, -38, -39, -40, -39, -40, -41, -40,\n",
       "       -39, -40, -41, -42, -41, -40, -39, -38, -39, -40, -39, -40, -41,\n",
       "       -42, -43, -42, -43, -42, -41, -42, -41, -42, -41, -42, -43, -42,\n",
       "       -41, -40, -39, -40, -39, -40, -39, -40, -39, -38, -37, -38, -39,\n",
       "       -40, -41, -40, -41, -42, -41, -42, -41, -42, -41, -40, -39, -40,\n",
       "       -41, -42, -43, -44, -45, -46, -47, -48, -49, -50, -51, -50, -51,\n",
       "       -52, -53, -54, -55, -54, -53, -54, -55, -54, -55, -56, -57, -56,\n",
       "       -57, -58, -59, -60, -59, -60, -61, -60, -61, -62, -63, -62, -61,\n",
       "       -60, -61, -60, -59, -58, -57, -58, -59, -60, -61, -60, -61, -60,\n",
       "       -61, -60, -59, -60, -61, -62, -61, -60, -59, -58, -59, -58, -57,\n",
       "       -56, -57, -56, -55, -54, -55, -56, -55, -56, -57, -56, -55, -54,\n",
       "       -53, -54, -53, -54, -55, -54, -53, -52, -51, -52, -51, -50, -51,\n",
       "       -50, -49, -48, -47, -46, -47, -46, -47, -46, -47, -46, -47, -46,\n",
       "       -45, -44, -43, -42, -41, -42, -43, -44, -43, -44, -45, -46, -45,\n",
       "       -46, -45, -44, -45, -44, -45, -44, -43, -44, -45, -46, -45, -44,\n",
       "       -43, -44, -43, -42, -43, -44, -45, -46, -47, -48, -49, -48, -49,\n",
       "       -50, -51, -50, -49, -48, -47, -46, -45, -46, -45, -44, -45, -44,\n",
       "       -43, -42, -41, -42, -41, -42, -43, -44, -45, -46, -47, -46, -45,\n",
       "       -44, -43, -42, -43, -42, -43, -42, -41, -40, -39, -40, -39, -40,\n",
       "       -39, -40, -41, -42, -43, -42, -41, -42, -43, -42, -41, -42, -41,\n",
       "       -40, -41, -40, -41, -40, -39, -40, -39, -40, -41, -42, -43, -44,\n",
       "       -45, -46, -47, -48, -49, -50, -51, -52, -53, -54, -55, -54, -53,\n",
       "       -52, -53, -52, -53, -52, -53, -52, -51, -52, -53, -52, -51, -52,\n",
       "       -51, -52, -51, -50, -49, -48, -47, -46, -47, -48, -47, -46, -45,\n",
       "       -44, -45, -46, -45, -46, -47, -46, -47, -46, -47, -48, -47, -48,\n",
       "       -47, -48, -49, -48, -47, -48, -49, -48, -49, -50, -49, -50, -51,\n",
       "       -52, -53, -54, -55, -56, -57, -58, -59, -60, -59, -58, -57, -58,\n",
       "       -57, -58, -59, -60, -59, -60, -59, -58, -59, -60, -59, -58, -59,\n",
       "       -58, -57, -56, -55, -54, -53, -52, -53, -54, -53, -54, -53, -52,\n",
       "       -51, -50, -51, -50, -51, -50, -49, -50, -49, -50, -51, -50, -49,\n",
       "       -48, -49, -50, -49, -50, -49, -50, -51, -52, -53, -54, -53, -54,\n",
       "       -53, -54, -55, -56, -55, -54, -53, -54, -55, -54, -55, -56, -57,\n",
       "       -58, -59, -58, -57, -56, -57, -56, -57, -58, -59, -60, -61, -60,\n",
       "       -59, -58, -57, -58, -59, -60, -59, -60, -59, -60, -61, -60],\n",
       "      dtype=int32)"
      ]
     },
     "execution_count": 8,
     "metadata": {},
     "output_type": "execute_result"
    }
   ],
   "source": [
    "walk"
   ]
  },
  {
   "cell_type": "code",
   "execution_count": 9,
   "metadata": {},
   "outputs": [
    {
     "data": {
      "text/plain": [
       "-63"
      ]
     },
     "execution_count": 9,
     "metadata": {},
     "output_type": "execute_result"
    }
   ],
   "source": [
    "walk.min()"
   ]
  },
  {
   "cell_type": "code",
   "execution_count": 10,
   "metadata": {},
   "outputs": [
    {
     "data": {
      "text/plain": [
       "9"
      ]
     },
     "execution_count": 10,
     "metadata": {},
     "output_type": "execute_result"
    }
   ],
   "source": [
    "walk.max()"
   ]
  },
  {
   "cell_type": "code",
   "execution_count": 11,
   "metadata": {},
   "outputs": [
    {
     "data": {
      "text/plain": [
       "array([False, False, False, False, False, False, False, False, False,\n",
       "       False, False, False, False, False, False, False, False, False,\n",
       "       False, False, False, False, False, False, False, False, False,\n",
       "       False, False, False, False, False, False, False, False, False,\n",
       "       False, False, False, False, False, False, False, False, False,\n",
       "       False, False, False, False, False, False, False, False, False,\n",
       "       False, False, False, False, False, False, False, False, False,\n",
       "       False, False, False, False, False, False, False, False, False,\n",
       "       False, False, False, False, False, False, False, False, False,\n",
       "       False, False, False, False, False, False, False, False, False,\n",
       "       False, False, False, False, False, False, False, False, False,\n",
       "       False, False, False, False, False, False, False, False, False,\n",
       "       False, False, False, False, False, False, False, False, False,\n",
       "       False, False, False, False, False,  True,  True,  True,  True,\n",
       "        True,  True,  True,  True,  True,  True,  True,  True,  True,\n",
       "        True,  True,  True,  True,  True,  True,  True,  True,  True,\n",
       "        True,  True,  True,  True,  True,  True,  True,  True,  True,\n",
       "        True,  True,  True,  True,  True,  True,  True,  True,  True,\n",
       "        True,  True,  True,  True,  True,  True,  True,  True,  True,\n",
       "        True,  True,  True,  True,  True,  True,  True,  True,  True,\n",
       "        True,  True,  True,  True,  True,  True,  True,  True,  True,\n",
       "        True,  True,  True,  True,  True,  True,  True,  True,  True,\n",
       "        True,  True,  True,  True,  True,  True,  True,  True,  True,\n",
       "        True,  True,  True,  True,  True,  True,  True,  True,  True,\n",
       "        True,  True,  True,  True,  True,  True,  True,  True,  True,\n",
       "        True,  True,  True,  True,  True,  True,  True,  True,  True,\n",
       "        True,  True,  True,  True,  True,  True,  True,  True,  True,\n",
       "        True,  True,  True,  True,  True,  True,  True,  True,  True,\n",
       "        True,  True,  True,  True,  True,  True,  True,  True,  True,\n",
       "        True,  True,  True,  True,  True,  True,  True,  True,  True,\n",
       "        True,  True,  True,  True,  True,  True,  True,  True,  True,\n",
       "        True,  True,  True,  True,  True,  True,  True,  True,  True,\n",
       "        True,  True,  True,  True,  True,  True,  True,  True,  True,\n",
       "        True,  True,  True,  True,  True,  True,  True,  True,  True,\n",
       "        True,  True,  True,  True,  True,  True,  True,  True,  True,\n",
       "        True,  True,  True,  True,  True,  True,  True,  True,  True,\n",
       "        True,  True,  True,  True,  True,  True,  True,  True,  True,\n",
       "        True,  True,  True,  True,  True,  True,  True,  True,  True,\n",
       "        True,  True,  True,  True,  True,  True,  True,  True,  True,\n",
       "        True,  True,  True,  True,  True,  True,  True,  True,  True,\n",
       "        True,  True,  True,  True,  True,  True,  True,  True,  True,\n",
       "        True,  True,  True,  True,  True,  True,  True,  True,  True,\n",
       "        True,  True,  True,  True,  True,  True,  True,  True,  True,\n",
       "        True,  True,  True,  True,  True,  True,  True,  True,  True,\n",
       "        True,  True,  True,  True,  True,  True,  True,  True,  True,\n",
       "        True,  True,  True,  True,  True,  True,  True,  True,  True,\n",
       "        True,  True,  True,  True,  True,  True,  True,  True,  True,\n",
       "        True,  True,  True,  True,  True,  True,  True,  True,  True,\n",
       "        True,  True,  True,  True,  True,  True,  True,  True,  True,\n",
       "        True,  True,  True,  True,  True,  True,  True,  True,  True,\n",
       "        True,  True,  True,  True,  True,  True,  True,  True,  True,\n",
       "        True,  True,  True,  True,  True,  True,  True,  True,  True,\n",
       "        True,  True,  True,  True,  True,  True,  True,  True,  True,\n",
       "        True,  True,  True,  True,  True,  True,  True,  True,  True,\n",
       "        True,  True,  True,  True,  True,  True,  True,  True,  True,\n",
       "        True,  True,  True,  True,  True,  True,  True,  True,  True,\n",
       "        True,  True,  True,  True,  True,  True,  True,  True,  True,\n",
       "        True,  True,  True,  True,  True,  True,  True,  True,  True,\n",
       "        True,  True,  True,  True,  True,  True,  True,  True,  True,\n",
       "        True,  True,  True,  True,  True,  True,  True,  True,  True,\n",
       "        True,  True,  True,  True,  True,  True,  True,  True,  True,\n",
       "        True,  True,  True,  True,  True,  True,  True,  True,  True,\n",
       "        True,  True,  True,  True,  True,  True,  True,  True,  True,\n",
       "        True,  True,  True,  True,  True,  True,  True,  True,  True,\n",
       "        True,  True,  True,  True,  True,  True,  True,  True,  True,\n",
       "        True,  True,  True,  True,  True,  True,  True,  True,  True,\n",
       "        True,  True,  True,  True,  True,  True,  True,  True,  True,\n",
       "        True,  True,  True,  True,  True,  True,  True,  True,  True,\n",
       "        True,  True,  True,  True,  True,  True,  True,  True,  True,\n",
       "        True,  True,  True,  True,  True,  True,  True,  True,  True,\n",
       "        True,  True,  True,  True,  True,  True,  True,  True,  True,\n",
       "        True,  True,  True,  True,  True,  True,  True,  True,  True,\n",
       "        True,  True,  True,  True,  True,  True,  True,  True,  True,\n",
       "        True,  True,  True,  True,  True,  True,  True,  True,  True,\n",
       "        True,  True,  True,  True,  True,  True,  True,  True,  True,\n",
       "        True,  True,  True,  True,  True,  True,  True,  True,  True,\n",
       "        True,  True,  True,  True,  True,  True,  True,  True,  True,\n",
       "        True,  True,  True,  True,  True,  True,  True,  True,  True,\n",
       "        True,  True,  True,  True,  True,  True,  True,  True,  True,\n",
       "        True,  True,  True,  True,  True,  True,  True,  True,  True,\n",
       "        True,  True,  True,  True,  True,  True,  True,  True,  True,\n",
       "        True,  True,  True,  True,  True,  True,  True,  True,  True,\n",
       "        True,  True,  True,  True,  True,  True,  True,  True,  True,\n",
       "        True,  True,  True,  True,  True,  True,  True,  True,  True,\n",
       "        True,  True,  True,  True,  True,  True,  True,  True,  True,\n",
       "        True,  True,  True,  True,  True,  True,  True,  True,  True,\n",
       "        True,  True,  True,  True,  True,  True,  True,  True,  True,\n",
       "        True,  True,  True,  True,  True,  True,  True,  True,  True,\n",
       "        True,  True,  True,  True,  True,  True,  True,  True,  True,\n",
       "        True,  True,  True,  True,  True,  True,  True,  True,  True,\n",
       "        True,  True,  True,  True,  True,  True,  True,  True,  True,\n",
       "        True,  True,  True,  True,  True,  True,  True,  True,  True,\n",
       "        True,  True,  True,  True,  True,  True,  True,  True,  True,\n",
       "        True,  True,  True,  True,  True,  True,  True,  True,  True,\n",
       "        True,  True,  True,  True,  True,  True,  True,  True,  True,\n",
       "        True,  True,  True,  True,  True,  True,  True,  True,  True,\n",
       "        True,  True,  True,  True,  True,  True,  True,  True,  True,\n",
       "        True,  True,  True,  True,  True,  True,  True,  True,  True,\n",
       "        True,  True,  True,  True,  True,  True,  True,  True,  True,\n",
       "        True,  True,  True,  True,  True,  True,  True,  True,  True,\n",
       "        True,  True,  True,  True,  True,  True,  True,  True,  True,\n",
       "        True,  True,  True,  True,  True,  True,  True,  True,  True,\n",
       "        True,  True,  True,  True,  True,  True,  True,  True,  True,\n",
       "        True,  True,  True,  True,  True,  True,  True,  True,  True,\n",
       "        True,  True,  True,  True,  True,  True,  True,  True,  True,\n",
       "        True,  True,  True,  True,  True,  True,  True,  True,  True,\n",
       "        True,  True,  True,  True,  True,  True,  True,  True,  True,\n",
       "        True,  True,  True,  True,  True,  True,  True,  True,  True,\n",
       "        True,  True,  True,  True,  True,  True,  True,  True,  True,\n",
       "        True,  True,  True,  True,  True,  True,  True,  True,  True,\n",
       "        True,  True,  True,  True,  True,  True,  True,  True,  True,\n",
       "        True])"
      ]
     },
     "execution_count": 11,
     "metadata": {},
     "output_type": "execute_result"
    }
   ],
   "source": [
    "np.abs(walk)>10"
   ]
  },
  {
   "cell_type": "code",
   "execution_count": 12,
   "metadata": {},
   "outputs": [
    {
     "data": {
      "text/plain": [
       "122"
      ]
     },
     "execution_count": 12,
     "metadata": {},
     "output_type": "execute_result"
    }
   ],
   "source": [
    "(np.abs(walk)>10).argmax()"
   ]
  },
  {
   "cell_type": "code",
   "execution_count": 13,
   "metadata": {},
   "outputs": [],
   "source": [
    "w=5000"
   ]
  },
  {
   "cell_type": "code",
   "execution_count": 14,
   "metadata": {},
   "outputs": [],
   "source": [
    "d=np.random.randint(0,2,size=(w,n))"
   ]
  },
  {
   "cell_type": "code",
   "execution_count": 15,
   "metadata": {},
   "outputs": [],
   "source": [
    "s=np.where(d>0,1,-1)"
   ]
  },
  {
   "cell_type": "code",
   "execution_count": 16,
   "metadata": {},
   "outputs": [],
   "source": [
    "w=s.cumsum(1)"
   ]
  },
  {
   "cell_type": "code",
   "execution_count": 17,
   "metadata": {},
   "outputs": [
    {
     "data": {
      "text/plain": [
       "array([[  1,   2,   3, ..., -26, -25, -24],\n",
       "       [ -1,   0,  -1, ...,  34,  33,  34],\n",
       "       [ -1,   0,   1, ...,  36,  37,  38],\n",
       "       ...,\n",
       "       [  1,   2,   3, ..., -46, -47, -48],\n",
       "       [ -1,  -2,  -3, ...,  -4,  -3,  -4],\n",
       "       [ -1,  -2,  -1, ...,   6,   7,   6]], dtype=int32)"
      ]
     },
     "execution_count": 17,
     "metadata": {},
     "output_type": "execute_result"
    }
   ],
   "source": [
    "w"
   ]
  },
  {
   "cell_type": "code",
   "execution_count": 18,
   "metadata": {},
   "outputs": [
    {
     "data": {
      "text/plain": [
       "(5000, 1000)"
      ]
     },
     "execution_count": 18,
     "metadata": {},
     "output_type": "execute_result"
    }
   ],
   "source": [
    "w.shape"
   ]
  },
  {
   "cell_type": "code",
   "execution_count": 19,
   "metadata": {},
   "outputs": [
    {
     "data": {
      "text/plain": [
       "(126, -126)"
      ]
     },
     "execution_count": 19,
     "metadata": {},
     "output_type": "execute_result"
    }
   ],
   "source": [
    "w.max(),w.min()"
   ]
  },
  {
   "cell_type": "code",
   "execution_count": 20,
   "metadata": {},
   "outputs": [],
   "source": [
    "hit30=(np.abs(w)>=30).any(1)"
   ]
  },
  {
   "cell_type": "code",
   "execution_count": 21,
   "metadata": {},
   "outputs": [
    {
     "data": {
      "text/plain": [
       "(array([ True,  True,  True, ...,  True,  True, False]), 5000, 3363)"
      ]
     },
     "execution_count": 21,
     "metadata": {},
     "output_type": "execute_result"
    }
   ],
   "source": [
    "hit30,len(hit30),hit30.sum()"
   ]
  },
  {
   "cell_type": "code",
   "execution_count": 22,
   "metadata": {},
   "outputs": [],
   "source": [
    "crossing_times=(np.abs(w[hit30])>=30).argmax(1)"
   ]
  },
  {
   "cell_type": "code",
   "execution_count": 23,
   "metadata": {},
   "outputs": [
    {
     "data": {
      "text/plain": [
       "array([987, 909, 253, ..., 253, 567, 385], dtype=int32)"
      ]
     },
     "execution_count": 23,
     "metadata": {},
     "output_type": "execute_result"
    }
   ],
   "source": [
    "crossing_times"
   ]
  },
  {
   "cell_type": "code",
   "execution_count": 24,
   "metadata": {},
   "outputs": [
    {
     "data": {
      "text/plain": [
       "512.2946773713946"
      ]
     },
     "execution_count": 24,
     "metadata": {},
     "output_type": "execute_result"
    }
   ],
   "source": [
    "crossing_times.mean()"
   ]
  },
  {
   "cell_type": "code",
   "execution_count": 25,
   "metadata": {},
   "outputs": [
    {
     "data": {
      "text/plain": [
       "3363"
      ]
     },
     "execution_count": 25,
     "metadata": {},
     "output_type": "execute_result"
    }
   ],
   "source": [
    "len(crossing_times)"
   ]
  },
  {
   "cell_type": "code",
   "execution_count": null,
   "metadata": {},
   "outputs": [],
   "source": []
  }
 ],
 "metadata": {
  "kernelspec": {
   "display_name": "Python 3",
   "language": "python",
   "name": "python3"
  },
  "language_info": {
   "codemirror_mode": {
    "name": "ipython",
    "version": 3
   },
   "file_extension": ".py",
   "mimetype": "text/x-python",
   "name": "python",
   "nbconvert_exporter": "python",
   "pygments_lexer": "ipython3",
   "version": "3.6.4"
  }
 },
 "nbformat": 4,
 "nbformat_minor": 2
}
