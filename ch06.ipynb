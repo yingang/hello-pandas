{
 "cells": [
  {
   "cell_type": "code",
   "execution_count": 1,
   "metadata": {},
   "outputs": [],
   "source": [
    "obj = \"\"\"\n",
    "{\"name\": \"Wes\",\n",
    "\"places_ lived\": [\"United States\", \"Spain\", \"Germany\"],\n",
    "\"pet\": null, \"siblings\": [{\"name\": \"Scott\", \"age\": 25, \"pet\": \"Zuko\"},\n",
    "{\"name\": \"Katie\", \"age\": 33, \"pet\": \"Cisco\"}]\n",
    "} \"\"\""
   ]
  },
  {
   "cell_type": "code",
   "execution_count": 2,
   "metadata": {},
   "outputs": [],
   "source": [
    "import json"
   ]
  },
  {
   "cell_type": "code",
   "execution_count": 3,
   "metadata": {},
   "outputs": [],
   "source": [
    "result = json.loads(obj)"
   ]
  },
  {
   "cell_type": "code",
   "execution_count": 4,
   "metadata": {},
   "outputs": [
    {
     "data": {
      "text/plain": [
       "{'name': 'Wes',\n",
       " 'places_ lived': ['United States', 'Spain', 'Germany'],\n",
       " 'pet': None,\n",
       " 'siblings': [{'name': 'Scott', 'age': 25, 'pet': 'Zuko'},\n",
       "  {'name': 'Katie', 'age': 33, 'pet': 'Cisco'}]}"
      ]
     },
     "execution_count": 4,
     "metadata": {},
     "output_type": "execute_result"
    }
   ],
   "source": [
    "result"
   ]
  },
  {
   "cell_type": "code",
   "execution_count": 5,
   "metadata": {},
   "outputs": [],
   "source": [
    "asjson = json.dumps(result)"
   ]
  },
  {
   "cell_type": "code",
   "execution_count": 6,
   "metadata": {},
   "outputs": [
    {
     "data": {
      "text/plain": [
       "'{\"name\": \"Wes\", \"places_ lived\": [\"United States\", \"Spain\", \"Germany\"], \"pet\": null, \"siblings\": [{\"name\": \"Scott\", \"age\": 25, \"pet\": \"Zuko\"}, {\"name\": \"Katie\", \"age\": 33, \"pet\": \"Cisco\"}]}'"
      ]
     },
     "execution_count": 6,
     "metadata": {},
     "output_type": "execute_result"
    }
   ],
   "source": [
    "asjson"
   ]
  },
  {
   "cell_type": "code",
   "execution_count": 8,
   "metadata": {},
   "outputs": [],
   "source": [
    "from lxml.html import parse"
   ]
  },
  {
   "cell_type": "code",
   "execution_count": 10,
   "metadata": {},
   "outputs": [],
   "source": [
    "from urllib.request import urlopen"
   ]
  },
  {
   "cell_type": "code",
   "execution_count": 11,
   "metadata": {},
   "outputs": [],
   "source": [
    "parsed = parse(urlopen('http://finance.yahoo.com/q/op?s=AAPL+Options'))"
   ]
  },
  {
   "cell_type": "code",
   "execution_count": 12,
   "metadata": {},
   "outputs": [],
   "source": [
    "doc = parsed.getroot()"
   ]
  },
  {
   "cell_type": "code",
   "execution_count": 13,
   "metadata": {},
   "outputs": [],
   "source": [
    "urls = [lnk.get('href') for lnk in doc.findall('.//a')]"
   ]
  },
  {
   "cell_type": "code",
   "execution_count": 14,
   "metadata": {},
   "outputs": [
    {
     "data": {
      "text/plain": [
       "['http://yahoofinance.tumblr.com',\n",
       " '/',\n",
       " '/watchlists',\n",
       " '/portfolios',\n",
       " '/screener',\n",
       " '/calendar',\n",
       " '/industries',\n",
       " '/videos',\n",
       " '/personal-finance',\n",
       " '/tech']"
      ]
     },
     "execution_count": 14,
     "metadata": {},
     "output_type": "execute_result"
    }
   ],
   "source": [
    "urls[-10:]"
   ]
  },
  {
   "cell_type": "code",
   "execution_count": 15,
   "metadata": {},
   "outputs": [],
   "source": [
    "tables = doc.findall('.//table')"
   ]
  },
  {
   "cell_type": "code",
   "execution_count": 16,
   "metadata": {},
   "outputs": [],
   "source": [
    "calls = tables[0]"
   ]
  },
  {
   "cell_type": "code",
   "execution_count": 17,
   "metadata": {},
   "outputs": [],
   "source": [
    "puts = tables[1]"
   ]
  },
  {
   "cell_type": "code",
   "execution_count": 18,
   "metadata": {},
   "outputs": [],
   "source": [
    "from pandas.io.parsers import TextParser"
   ]
  },
  {
   "cell_type": "code",
   "execution_count": 19,
   "metadata": {},
   "outputs": [],
   "source": [
    "def _unpack(row, kind='td'):\n",
    "    elts = row.findall('.//%s' % kind)\n",
    "    return [val.text_content() for val in elts]"
   ]
  },
  {
   "cell_type": "code",
   "execution_count": 20,
   "metadata": {},
   "outputs": [],
   "source": [
    "def parse_options(table):\n",
    "    rows = table.findall('.//tr')\n",
    "    header = _unpack(rows[0], kind='th')\n",
    "    data = [_unpack(r) for r in rows[1:]]\n",
    "    return TextParser(data, names=header).get_chunk()"
   ]
  },
  {
   "cell_type": "code",
   "execution_count": 21,
   "metadata": {},
   "outputs": [],
   "source": [
    "call_data = parse_options(calls)\n",
    "put_data = parse_options(puts)"
   ]
  },
  {
   "cell_type": "code",
   "execution_count": 22,
   "metadata": {},
   "outputs": [
    {
     "data": {
      "text/html": [
       "<div>\n",
       "<style scoped>\n",
       "    .dataframe tbody tr th:only-of-type {\n",
       "        vertical-align: middle;\n",
       "    }\n",
       "\n",
       "    .dataframe tbody tr th {\n",
       "        vertical-align: top;\n",
       "    }\n",
       "\n",
       "    .dataframe thead th {\n",
       "        text-align: right;\n",
       "    }\n",
       "</style>\n",
       "<table border=\"1\" class=\"dataframe\">\n",
       "  <thead>\n",
       "    <tr style=\"text-align: right;\">\n",
       "      <th></th>\n",
       "      <th>Contract Name</th>\n",
       "      <th>Last Trade Date</th>\n",
       "      <th>Strike</th>\n",
       "      <th>Last Price</th>\n",
       "      <th>Bid</th>\n",
       "      <th>Ask</th>\n",
       "      <th>Change</th>\n",
       "      <th>% Change</th>\n",
       "      <th>Volume</th>\n",
       "      <th>Open Interest</th>\n",
       "      <th>Implied Volatility</th>\n",
       "    </tr>\n",
       "  </thead>\n",
       "  <tbody>\n",
       "    <tr>\n",
       "      <th>0</th>\n",
       "      <td>AAPL190118C00002500</td>\n",
       "      <td>2019-01-10 12:02PM EST</td>\n",
       "      <td>2.5</td>\n",
       "      <td>150.30</td>\n",
       "      <td>149.25</td>\n",
       "      <td>150.05</td>\n",
       "      <td>0.0</td>\n",
       "      <td>-</td>\n",
       "      <td>2</td>\n",
       "      <td>281</td>\n",
       "      <td>1,643.75%</td>\n",
       "    </tr>\n",
       "    <tr>\n",
       "      <th>1</th>\n",
       "      <td>AAPL190118C00005000</td>\n",
       "      <td>2019-01-10 1:07PM EST</td>\n",
       "      <td>5.0</td>\n",
       "      <td>147.75</td>\n",
       "      <td>146.80</td>\n",
       "      <td>147.55</td>\n",
       "      <td>0.0</td>\n",
       "      <td>-</td>\n",
       "      <td>2</td>\n",
       "      <td>411</td>\n",
       "      <td>1,300.00%</td>\n",
       "    </tr>\n",
       "    <tr>\n",
       "      <th>2</th>\n",
       "      <td>AAPL190118C00007500</td>\n",
       "      <td>2019-01-10 3:30PM EST</td>\n",
       "      <td>7.5</td>\n",
       "      <td>145.75</td>\n",
       "      <td>144.30</td>\n",
       "      <td>145.05</td>\n",
       "      <td>0.0</td>\n",
       "      <td>-</td>\n",
       "      <td>3</td>\n",
       "      <td>208</td>\n",
       "      <td>1,121.88%</td>\n",
       "    </tr>\n",
       "    <tr>\n",
       "      <th>3</th>\n",
       "      <td>AAPL190118C00010000</td>\n",
       "      <td>2019-01-10 3:30PM EST</td>\n",
       "      <td>10.0</td>\n",
       "      <td>143.25</td>\n",
       "      <td>141.80</td>\n",
       "      <td>142.55</td>\n",
       "      <td>0.0</td>\n",
       "      <td>-</td>\n",
       "      <td>20</td>\n",
       "      <td>77</td>\n",
       "      <td>1,001.56%</td>\n",
       "    </tr>\n",
       "    <tr>\n",
       "      <th>4</th>\n",
       "      <td>AAPL190118C00012500</td>\n",
       "      <td>2019-01-10 3:30PM EST</td>\n",
       "      <td>12.5</td>\n",
       "      <td>140.75</td>\n",
       "      <td>139.30</td>\n",
       "      <td>140.05</td>\n",
       "      <td>0.0</td>\n",
       "      <td>-</td>\n",
       "      <td>10</td>\n",
       "      <td>135</td>\n",
       "      <td>912.50%</td>\n",
       "    </tr>\n",
       "    <tr>\n",
       "      <th>5</th>\n",
       "      <td>AAPL190118C00015000</td>\n",
       "      <td>2019-01-08 12:24PM EST</td>\n",
       "      <td>15.0</td>\n",
       "      <td>135.46</td>\n",
       "      <td>136.85</td>\n",
       "      <td>137.55</td>\n",
       "      <td>0.0</td>\n",
       "      <td>-</td>\n",
       "      <td>12</td>\n",
       "      <td>79</td>\n",
       "      <td>841.41%</td>\n",
       "    </tr>\n",
       "    <tr>\n",
       "      <th>6</th>\n",
       "      <td>AAPL190118C00017500</td>\n",
       "      <td>2018-12-13 10:11AM EST</td>\n",
       "      <td>17.5</td>\n",
       "      <td>154.45</td>\n",
       "      <td>134.30</td>\n",
       "      <td>135.05</td>\n",
       "      <td>0.0</td>\n",
       "      <td>-</td>\n",
       "      <td>71</td>\n",
       "      <td>107</td>\n",
       "      <td>782.81%</td>\n",
       "    </tr>\n",
       "    <tr>\n",
       "      <th>7</th>\n",
       "      <td>AAPL190118C00020000</td>\n",
       "      <td>2018-12-13 10:11AM EST</td>\n",
       "      <td>20.0</td>\n",
       "      <td>151.95</td>\n",
       "      <td>131.80</td>\n",
       "      <td>132.55</td>\n",
       "      <td>0.0</td>\n",
       "      <td>-</td>\n",
       "      <td>22</td>\n",
       "      <td>153</td>\n",
       "      <td>732.81%</td>\n",
       "    </tr>\n",
       "    <tr>\n",
       "      <th>8</th>\n",
       "      <td>AAPL190118C00022500</td>\n",
       "      <td>2018-12-03 10:51AM EST</td>\n",
       "      <td>22.5</td>\n",
       "      <td>159.45</td>\n",
       "      <td>129.30</td>\n",
       "      <td>130.05</td>\n",
       "      <td>0.0</td>\n",
       "      <td>-</td>\n",
       "      <td>3</td>\n",
       "      <td>98</td>\n",
       "      <td>689.84%</td>\n",
       "    </tr>\n",
       "    <tr>\n",
       "      <th>9</th>\n",
       "      <td>AAPL190118C00025000</td>\n",
       "      <td>2018-12-13 10:00AM EST</td>\n",
       "      <td>25.0</td>\n",
       "      <td>145.85</td>\n",
       "      <td>126.80</td>\n",
       "      <td>127.55</td>\n",
       "      <td>0.0</td>\n",
       "      <td>-</td>\n",
       "      <td>42</td>\n",
       "      <td>241</td>\n",
       "      <td>651.56%</td>\n",
       "    </tr>\n",
       "  </tbody>\n",
       "</table>\n",
       "</div>"
      ],
      "text/plain": [
       "         Contract Name         Last Trade Date  Strike  Last Price     Bid  \\\n",
       "0  AAPL190118C00002500  2019-01-10 12:02PM EST     2.5      150.30  149.25   \n",
       "1  AAPL190118C00005000   2019-01-10 1:07PM EST     5.0      147.75  146.80   \n",
       "2  AAPL190118C00007500   2019-01-10 3:30PM EST     7.5      145.75  144.30   \n",
       "3  AAPL190118C00010000   2019-01-10 3:30PM EST    10.0      143.25  141.80   \n",
       "4  AAPL190118C00012500   2019-01-10 3:30PM EST    12.5      140.75  139.30   \n",
       "5  AAPL190118C00015000  2019-01-08 12:24PM EST    15.0      135.46  136.85   \n",
       "6  AAPL190118C00017500  2018-12-13 10:11AM EST    17.5      154.45  134.30   \n",
       "7  AAPL190118C00020000  2018-12-13 10:11AM EST    20.0      151.95  131.80   \n",
       "8  AAPL190118C00022500  2018-12-03 10:51AM EST    22.5      159.45  129.30   \n",
       "9  AAPL190118C00025000  2018-12-13 10:00AM EST    25.0      145.85  126.80   \n",
       "\n",
       "      Ask  Change % Change Volume Open Interest Implied Volatility  \n",
       "0  150.05     0.0        -      2           281          1,643.75%  \n",
       "1  147.55     0.0        -      2           411          1,300.00%  \n",
       "2  145.05     0.0        -      3           208          1,121.88%  \n",
       "3  142.55     0.0        -     20            77          1,001.56%  \n",
       "4  140.05     0.0        -     10           135            912.50%  \n",
       "5  137.55     0.0        -     12            79            841.41%  \n",
       "6  135.05     0.0        -     71           107            782.81%  \n",
       "7  132.55     0.0        -     22           153            732.81%  \n",
       "8  130.05     0.0        -      3            98            689.84%  \n",
       "9  127.55     0.0        -     42           241            651.56%  "
      ]
     },
     "execution_count": 22,
     "metadata": {},
     "output_type": "execute_result"
    }
   ],
   "source": [
    "call_data[:10]"
   ]
  },
  {
   "cell_type": "code",
   "execution_count": null,
   "metadata": {},
   "outputs": [],
   "source": []
  }
 ],
 "metadata": {
  "kernelspec": {
   "display_name": "Python 3",
   "language": "python",
   "name": "python3"
  },
  "language_info": {
   "codemirror_mode": {
    "name": "ipython",
    "version": 3
   },
   "file_extension": ".py",
   "mimetype": "text/x-python",
   "name": "python",
   "nbconvert_exporter": "python",
   "pygments_lexer": "ipython3",
   "version": "3.6.4"
  }
 },
 "nbformat": 4,
 "nbformat_minor": 2
}
